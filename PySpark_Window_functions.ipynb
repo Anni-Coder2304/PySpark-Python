{
  "cells": [
    {
      "cell_type": "markdown",
      "metadata": {
        "id": "view-in-github",
        "colab_type": "text"
      },
      "source": [
        "<a href=\"https://colab.research.google.com/github/Anni-Coder2304/PySpark-Python/blob/main/PySpark_Window_functions.ipynb\" target=\"_parent\"><img src=\"https://colab.research.google.com/assets/colab-badge.svg\" alt=\"Open In Colab\"/></a>"
      ]
    },
    {
      "cell_type": "markdown",
      "metadata": {
        "id": "Tce3stUlHN0L"
      },
      "source": [
        "##### Copyright 2024 Google LLC."
      ]
    },
    {
      "cell_type": "code",
      "execution_count": null,
      "metadata": {
        "cellView": "form",
        "id": "tuOe1ymfHZPu"
      },
      "outputs": [],
      "source": [
        "# @title Licensed under the Apache License, Version 2.0 (the \"License\");\n",
        "# you may not use this file except in compliance with the License.\n",
        "# You may obtain a copy of the License at\n",
        "#\n",
        "# https://www.apache.org/licenses/LICENSE-2.0\n",
        "#\n",
        "# Unless required by applicable law or agreed to in writing, software\n",
        "# distributed under the License is distributed on an \"AS IS\" BASIS,\n",
        "# WITHOUT WARRANTIES OR CONDITIONS OF ANY KIND, either express or implied.\n",
        "# See the License for the specific language governing permissions and\n",
        "# limitations under the License."
      ]
    },
    {
      "cell_type": "markdown",
      "metadata": {
        "id": "yeadDkMiISin"
      },
      "source": [
        "# Gemini API: Prompting Quickstart\n",
        "\n",
        "<table align=\"left\">\n",
        "  <td>\n",
        "    <a target=\"_blank\" href=\"https://colab.research.google.com/github/google-gemini/cookbook/blob/main/quickstarts/Prompting.ipynb\"><img src=\"https://github.com/google-gemini/cookbook/blob/main/images/colab_logo_32px.png?raw=1\" />Run in Google Colab</a>\n",
        "  </td>\n",
        "</table>"
      ]
    },
    {
      "cell_type": "markdown",
      "metadata": {
        "id": "dpOYALec6N8Z"
      },
      "source": [
        "This notebook contains examples of how to write and run your first prompts with the Gemini API."
      ]
    },
    {
      "cell_type": "code",
      "source": [
        "from pyspark.sql import SparkSession\n",
        "spark = SparkSession.builder.appName('MysparkApp.com').getOrCreate()"
      ],
      "metadata": {
        "id": "g6Z5BGlUsEgS"
      },
      "execution_count": 2,
      "outputs": []
    },
    {
      "cell_type": "code",
      "source": [
        "df=spark.read.csv('/content/Employee_data.csv',header=True)\n"
      ],
      "metadata": {
        "id": "WKmatPmq8r__"
      },
      "execution_count": 3,
      "outputs": []
    },
    {
      "cell_type": "code",
      "source": [
        "df.show()\n",
        "df.count()"
      ],
      "metadata": {
        "colab": {
          "base_uri": "https://localhost:8080/"
        },
        "id": "MsUAnVevvIFE",
        "outputId": "43e02386-5a59-41bf-d739-274fd3be05fb"
      },
      "execution_count": 4,
      "outputs": [
        {
          "output_type": "stream",
          "name": "stdout",
          "text": [
            "+--------------------+--------------------+------------+---+-----+---------+-------+----------+\n",
            "|            Emp name|            Email Id|        Dept|Age|State|     City|Revenue|       DOJ|\n",
            "+--------------------+--------------------+------------+---+-----+---------+-------+----------+\n",
            "|     Abhishek Sharma|abhishekrawat63@g...|   Executive| 32|   UP|    NOIDA|  23456|11/16/2012|\n",
            "|          Aman Verma|manojrawat55@gmai...|          hR| 45|DELHI|   NDELHI| 123456|  7/1/2015|\n",
            "|          Anuj Verma| anuj02feb@yahoo.com|   Executive|100|   UP|GHAZIABAD|  12345|  5/6/2014|\n",
            "|        Deepak Verma| deepaky66@gmail.com|J. Executive| 60|DELHI|   SDELHI| 120000| 11/3/2011|\n",
            "|     Abhishek Sharma|abhishekrawat63@g...|   Executive| 32|   UP|    NOIDA|  23456|11/16/2012|\n",
            "|        Sanjay Ahmad|dilshadkhan0207@g...|          HR| 34|   MP|   SDELHI|  23000|  8/2/2010|\n",
            "|       Faizal Sharma|faisalsiddiqui@ho...|          HR| 34|Delhi|   SDELHI|  12000|11/23/2012|\n",
            "|Abhishek kumar Rawat|lamba.hebo.harsh@...|          HR| 52|delhi|   Bhopal|  12345| 8/13/2009|\n",
            "|        Ishant Bisht|srishantbisht@gma...|    Director| 20|DELHI|   SDELHI|  45000| 5/11/2012|\n",
            "|        Meevan Gupta|jeevangoyal@gmail...|    Director| 35|   UP|    noida|  45000| 11/1/2012|\n",
            "|        Mohit Sharma|mohitbelwal20009@...|    Director| 42|DELHI|   SDELHI|  45000| 4/10/2010|\n",
            "|        Dilshad Khan|dilshadkhan0207@g...|          HR| 27|DELHI|   SDELHI|  23000|  8/2/2010|\n",
            "|               Suraj|slakra1990@gmail.com|    Director| 42|   UP|GHAZIABAD|  45000| 9/16/2010|\n",
            "|         Vaibhav Dev|vaibhavdev@zapak.com|   Executive| 34|DELHI|   NDELHI|  45000| 8/13/2009|\n",
            "|            Abhishek|abhishekrawat63@g...|   Executive| 33|   UP|    NOIDA|  45000|11/15/2013|\n",
            "|         Manoj Rawat|manojrawat55@gmai...|          HR| 23|DELHI|   NDELHI|  45000|  5/2/2010|\n",
            "|                Anuj| anuj02feb@yahoo.com|   Executive| 45|   UP|GHAZIABAD|  45000|  5/6/2014|\n",
            "|        Deepak Singh| deepaky66@gmail.com|J. Executive| 51|DELHI|   nDELHI|  56000| 11/3/2011|\n",
            "|     Deepanshu Malik|deepanshu_ad@yaho...|   executive| 51|DELHI|   NDELHI| 120000|  4/3/2010|\n",
            "|        Dilshad Khan|dilshadkhan0207@g...|          HR| 27|DELHI|   SDELHI|  23456|  8/2/2010|\n",
            "+--------------------+--------------------+------------+---+-----+---------+-------+----------+\n",
            "only showing top 20 rows\n",
            "\n"
          ]
        },
        {
          "output_type": "execute_result",
          "data": {
            "text/plain": [
              "27"
            ]
          },
          "metadata": {},
          "execution_count": 4
        }
      ]
    },
    {
      "cell_type": "code",
      "source": [
        "df1=df.withColumnRenamed('Emp name', 'Emp_name').withColumnRenamed('Email Id', 'Email_Id')\n",
        "df1.show(df1.count())"
      ],
      "metadata": {
        "colab": {
          "base_uri": "https://localhost:8080/"
        },
        "id": "-NftnVOtoq2K",
        "outputId": "b895f764-9061-45b4-feff-395f7402b9f2"
      },
      "execution_count": 18,
      "outputs": [
        {
          "output_type": "stream",
          "name": "stdout",
          "text": [
            "+--------------------+--------------------+------------+---+-----+---------+-------+----------+\n",
            "|            Emp_name|            Email_Id|        Dept|Age|State|     City|Revenue|       DOJ|\n",
            "+--------------------+--------------------+------------+---+-----+---------+-------+----------+\n",
            "|     Abhishek Sharma|abhishekrawat63@g...|   Executive| 32|   UP|    NOIDA|  23456|11/16/2012|\n",
            "|          Aman Verma|manojrawat55@gmai...|          hR| 45|DELHI|   NDELHI| 123456|  7/1/2015|\n",
            "|          Anuj Verma| anuj02feb@yahoo.com|   Executive|100|   UP|GHAZIABAD|  12345|  5/6/2014|\n",
            "|        Deepak Verma| deepaky66@gmail.com|J. Executive| 60|DELHI|   SDELHI| 120000| 11/3/2011|\n",
            "|     Abhishek Sharma|abhishekrawat63@g...|   Executive| 32|   UP|    NOIDA|  23456|11/16/2012|\n",
            "|        Sanjay Ahmad|dilshadkhan0207@g...|          HR| 34|   MP|   SDELHI|  23000|  8/2/2010|\n",
            "|       Faizal Sharma|faisalsiddiqui@ho...|          HR| 34|Delhi|   SDELHI|  12000|11/23/2012|\n",
            "|Abhishek kumar Rawat|lamba.hebo.harsh@...|          HR| 52|delhi|   Bhopal|  12345| 8/13/2009|\n",
            "|        Ishant Bisht|srishantbisht@gma...|    Director| 20|DELHI|   SDELHI|  45000| 5/11/2012|\n",
            "|        Meevan Gupta|jeevangoyal@gmail...|    Director| 35|   UP|    noida|  45000| 11/1/2012|\n",
            "|        Mohit Sharma|mohitbelwal20009@...|    Director| 42|DELHI|   SDELHI|  45000| 4/10/2010|\n",
            "|        Dilshad Khan|dilshadkhan0207@g...|          HR| 27|DELHI|   SDELHI|  23000|  8/2/2010|\n",
            "|               Suraj|slakra1990@gmail.com|    Director| 42|   UP|GHAZIABAD|  45000| 9/16/2010|\n",
            "|         Vaibhav Dev|vaibhavdev@zapak.com|   Executive| 34|DELHI|   NDELHI|  45000| 8/13/2009|\n",
            "|            Abhishek|abhishekrawat63@g...|   Executive| 33|   UP|    NOIDA|  45000|11/15/2013|\n",
            "|         Manoj Rawat|manojrawat55@gmai...|          HR| 23|DELHI|   NDELHI|  45000|  5/2/2010|\n",
            "|                Anuj| anuj02feb@yahoo.com|   Executive| 45|   UP|GHAZIABAD|  45000|  5/6/2014|\n",
            "|        Deepak Singh| deepaky66@gmail.com|J. Executive| 51|DELHI|   nDELHI|  56000| 11/3/2011|\n",
            "|     Deepanshu Malik|deepanshu_ad@yaho...|   executive| 51|DELHI|   NDELHI| 120000|  4/3/2010|\n",
            "|        Dilshad Khan|dilshadkhan0207@g...|          HR| 27|DELHI|   SDELHI|  23456|  8/2/2010|\n",
            "|     Faizal Malhotra|faisalsiddiqui@ho...|          HR| 51|Delhi|   nDELHI| 120000|11/23/2012|\n",
            "|       Harsh Khurana|lamba.hebo.harsh@...|J. Executive| 34|   MP|     Rewa| 100000| 8/13/2013|\n",
            "|              Ishant|srishantbisht@gma...|    Director| 20|DELHI|   SDELHI|  45000| 5/11/2013|\n",
            "|         Meenu Gupta|jeevangoyal@gmail...|    Director| 35|   UP|    noida|  91356| 11/1/2012|\n",
            "|     Mohit Srivastav|mohitbelwal20009@...|    Director| 42|DELHI|   SDELHI|  23456| 4/10/2010|\n",
            "|         Suraj Singh|slakra1990@gmail.com|    Director| 42|   UP|GHAZIABAD|  97000| 9/16/2010|\n",
            "|       Vaibhav Dewan|vaibhavdev@zapak.com|   Executive| 34|DELHI|   NDELHI|  67000| 8/13/2009|\n",
            "+--------------------+--------------------+------------+---+-----+---------+-------+----------+\n",
            "\n"
          ]
        }
      ]
    },
    {
      "cell_type": "code",
      "source": [
        "from pyspark.sql.window import Window\n",
        "from pyspark.sql.functions import *\n",
        "\n",
        "WindowSpec=Window.partitionBy('Dept').orderBy(desc('Revenue'))\n",
        "df2=df1.withColumn('rank',rank().over(WindowSpec))\n",
        "df2.show(df2.count())"
      ],
      "metadata": {
        "colab": {
          "base_uri": "https://localhost:8080/"
        },
        "id": "Kg67Bx4VvZ9P",
        "outputId": "7b9e4275-052c-4983-91b1-0c5e639e392c"
      },
      "execution_count": 32,
      "outputs": [
        {
          "output_type": "stream",
          "name": "stdout",
          "text": [
            "+--------------------+--------------------+------------+---+-----+---------+-------+----------+----+\n",
            "|            Emp_name|            Email_Id|        Dept|Age|State|     City|Revenue|       DOJ|rank|\n",
            "+--------------------+--------------------+------------+---+-----+---------+-------+----------+----+\n",
            "|         Suraj Singh|slakra1990@gmail.com|    Director| 42|   UP|GHAZIABAD|  97000| 9/16/2010|   1|\n",
            "|         Meenu Gupta|jeevangoyal@gmail...|    Director| 35|   UP|    noida|  91356| 11/1/2012|   2|\n",
            "|        Ishant Bisht|srishantbisht@gma...|    Director| 20|DELHI|   SDELHI|  45000| 5/11/2012|   3|\n",
            "|        Meevan Gupta|jeevangoyal@gmail...|    Director| 35|   UP|    noida|  45000| 11/1/2012|   3|\n",
            "|        Mohit Sharma|mohitbelwal20009@...|    Director| 42|DELHI|   SDELHI|  45000| 4/10/2010|   3|\n",
            "|               Suraj|slakra1990@gmail.com|    Director| 42|   UP|GHAZIABAD|  45000| 9/16/2010|   3|\n",
            "|              Ishant|srishantbisht@gma...|    Director| 20|DELHI|   SDELHI|  45000| 5/11/2013|   3|\n",
            "|     Mohit Srivastav|mohitbelwal20009@...|    Director| 42|DELHI|   SDELHI|  23456| 4/10/2010|   8|\n",
            "|       Vaibhav Dewan|vaibhavdev@zapak.com|   Executive| 34|DELHI|   NDELHI|  67000| 8/13/2009|   1|\n",
            "|         Vaibhav Dev|vaibhavdev@zapak.com|   Executive| 34|DELHI|   NDELHI|  45000| 8/13/2009|   2|\n",
            "|            Abhishek|abhishekrawat63@g...|   Executive| 33|   UP|    NOIDA|  45000|11/15/2013|   2|\n",
            "|                Anuj| anuj02feb@yahoo.com|   Executive| 45|   UP|GHAZIABAD|  45000|  5/6/2014|   2|\n",
            "|     Abhishek Sharma|abhishekrawat63@g...|   Executive| 32|   UP|    NOIDA|  23456|11/16/2012|   5|\n",
            "|     Abhishek Sharma|abhishekrawat63@g...|   Executive| 32|   UP|    NOIDA|  23456|11/16/2012|   5|\n",
            "|          Anuj Verma| anuj02feb@yahoo.com|   Executive|100|   UP|GHAZIABAD|  12345|  5/6/2014|   7|\n",
            "|         Manoj Rawat|manojrawat55@gmai...|          HR| 23|DELHI|   NDELHI|  45000|  5/2/2010|   1|\n",
            "|        Dilshad Khan|dilshadkhan0207@g...|          HR| 27|DELHI|   SDELHI|  23456|  8/2/2010|   2|\n",
            "|        Sanjay Ahmad|dilshadkhan0207@g...|          HR| 34|   MP|   SDELHI|  23000|  8/2/2010|   3|\n",
            "|        Dilshad Khan|dilshadkhan0207@g...|          HR| 27|DELHI|   SDELHI|  23000|  8/2/2010|   3|\n",
            "|Abhishek kumar Rawat|lamba.hebo.harsh@...|          HR| 52|delhi|   Bhopal|  12345| 8/13/2009|   5|\n",
            "|     Faizal Malhotra|faisalsiddiqui@ho...|          HR| 51|Delhi|   nDELHI| 120000|11/23/2012|   6|\n",
            "|       Faizal Sharma|faisalsiddiqui@ho...|          HR| 34|Delhi|   SDELHI|  12000|11/23/2012|   7|\n",
            "|        Deepak Singh| deepaky66@gmail.com|J. Executive| 51|DELHI|   nDELHI|  56000| 11/3/2011|   1|\n",
            "|        Deepak Verma| deepaky66@gmail.com|J. Executive| 60|DELHI|   SDELHI| 120000| 11/3/2011|   2|\n",
            "|       Harsh Khurana|lamba.hebo.harsh@...|J. Executive| 34|   MP|     Rewa| 100000| 8/13/2013|   3|\n",
            "|     Deepanshu Malik|deepanshu_ad@yaho...|   executive| 51|DELHI|   NDELHI| 120000|  4/3/2010|   1|\n",
            "|          Aman Verma|manojrawat55@gmai...|          hR| 45|DELHI|   NDELHI| 123456|  7/1/2015|   1|\n",
            "+--------------------+--------------------+------------+---+-----+---------+-------+----------+----+\n",
            "\n"
          ]
        }
      ]
    },
    {
      "cell_type": "markdown",
      "source": [],
      "metadata": {
        "id": "xrNJZwc_Vb1o"
      }
    },
    {
      "cell_type": "code",
      "source": [
        "windowSpec1 = Window.partitionBy('Dept','Revenue').orderBy(desc('Revenue'))\n",
        "df3 = df2.withColumn(\"count_same_revenue\", count(\"*\").over(windowSpec1))\n",
        "df3.show(df3.count())"
      ],
      "metadata": {
        "colab": {
          "base_uri": "https://localhost:8080/"
        },
        "id": "-uRSXPFoBslt",
        "outputId": "4390eae7-65c4-4149-8471-be2f31ae7e5a"
      },
      "execution_count": 37,
      "outputs": [
        {
          "output_type": "stream",
          "name": "stdout",
          "text": [
            "+--------------------+--------------------+------------+---+-----+---------+-------+----------+----+------------------+\n",
            "|            Emp_name|            Email_Id|        Dept|Age|State|     City|Revenue|       DOJ|rank|count_same_revenue|\n",
            "+--------------------+--------------------+------------+---+-----+---------+-------+----------+----+------------------+\n",
            "|     Mohit Srivastav|mohitbelwal20009@...|    Director| 42|DELHI|   SDELHI|  23456| 4/10/2010|   8|                 1|\n",
            "|        Ishant Bisht|srishantbisht@gma...|    Director| 20|DELHI|   SDELHI|  45000| 5/11/2012|   3|                 5|\n",
            "|        Meevan Gupta|jeevangoyal@gmail...|    Director| 35|   UP|    noida|  45000| 11/1/2012|   3|                 5|\n",
            "|        Mohit Sharma|mohitbelwal20009@...|    Director| 42|DELHI|   SDELHI|  45000| 4/10/2010|   3|                 5|\n",
            "|               Suraj|slakra1990@gmail.com|    Director| 42|   UP|GHAZIABAD|  45000| 9/16/2010|   3|                 5|\n",
            "|              Ishant|srishantbisht@gma...|    Director| 20|DELHI|   SDELHI|  45000| 5/11/2013|   3|                 5|\n",
            "|         Meenu Gupta|jeevangoyal@gmail...|    Director| 35|   UP|    noida|  91356| 11/1/2012|   2|                 1|\n",
            "|         Suraj Singh|slakra1990@gmail.com|    Director| 42|   UP|GHAZIABAD|  97000| 9/16/2010|   1|                 1|\n",
            "|          Anuj Verma| anuj02feb@yahoo.com|   Executive|100|   UP|GHAZIABAD|  12345|  5/6/2014|   7|                 1|\n",
            "|     Abhishek Sharma|abhishekrawat63@g...|   Executive| 32|   UP|    NOIDA|  23456|11/16/2012|   5|                 2|\n",
            "|     Abhishek Sharma|abhishekrawat63@g...|   Executive| 32|   UP|    NOIDA|  23456|11/16/2012|   5|                 2|\n",
            "|         Vaibhav Dev|vaibhavdev@zapak.com|   Executive| 34|DELHI|   NDELHI|  45000| 8/13/2009|   2|                 3|\n",
            "|            Abhishek|abhishekrawat63@g...|   Executive| 33|   UP|    NOIDA|  45000|11/15/2013|   2|                 3|\n",
            "|                Anuj| anuj02feb@yahoo.com|   Executive| 45|   UP|GHAZIABAD|  45000|  5/6/2014|   2|                 3|\n",
            "|       Vaibhav Dewan|vaibhavdev@zapak.com|   Executive| 34|DELHI|   NDELHI|  67000| 8/13/2009|   1|                 1|\n",
            "|       Faizal Sharma|faisalsiddiqui@ho...|          HR| 34|Delhi|   SDELHI|  12000|11/23/2012|   7|                 1|\n",
            "|     Faizal Malhotra|faisalsiddiqui@ho...|          HR| 51|Delhi|   nDELHI| 120000|11/23/2012|   6|                 1|\n",
            "|Abhishek kumar Rawat|lamba.hebo.harsh@...|          HR| 52|delhi|   Bhopal|  12345| 8/13/2009|   5|                 1|\n",
            "|        Sanjay Ahmad|dilshadkhan0207@g...|          HR| 34|   MP|   SDELHI|  23000|  8/2/2010|   3|                 2|\n",
            "|        Dilshad Khan|dilshadkhan0207@g...|          HR| 27|DELHI|   SDELHI|  23000|  8/2/2010|   3|                 2|\n",
            "|        Dilshad Khan|dilshadkhan0207@g...|          HR| 27|DELHI|   SDELHI|  23456|  8/2/2010|   2|                 1|\n",
            "|         Manoj Rawat|manojrawat55@gmai...|          HR| 23|DELHI|   NDELHI|  45000|  5/2/2010|   1|                 1|\n",
            "|       Harsh Khurana|lamba.hebo.harsh@...|J. Executive| 34|   MP|     Rewa| 100000| 8/13/2013|   3|                 1|\n",
            "|        Deepak Verma| deepaky66@gmail.com|J. Executive| 60|DELHI|   SDELHI| 120000| 11/3/2011|   2|                 1|\n",
            "|        Deepak Singh| deepaky66@gmail.com|J. Executive| 51|DELHI|   nDELHI|  56000| 11/3/2011|   1|                 1|\n",
            "|     Deepanshu Malik|deepanshu_ad@yaho...|   executive| 51|DELHI|   NDELHI| 120000|  4/3/2010|   1|                 1|\n",
            "|          Aman Verma|manojrawat55@gmai...|          hR| 45|DELHI|   NDELHI| 123456|  7/1/2015|   1|                 1|\n",
            "+--------------------+--------------------+------------+---+-----+---------+-------+----------+----+------------------+\n",
            "\n"
          ]
        }
      ]
    },
    {
      "cell_type": "code",
      "source": [
        "df4=df3.filter(df3['count_same_revenue'] > 1)\n",
        "df4.show()\n",
        "\n"
      ],
      "metadata": {
        "colab": {
          "base_uri": "https://localhost:8080/"
        },
        "id": "YqrbMzONydk9",
        "outputId": "8eb3a52d-69fa-4bba-cd86-6bfd7f549aea"
      },
      "execution_count": 38,
      "outputs": [
        {
          "output_type": "stream",
          "name": "stdout",
          "text": [
            "+---------------+--------------------+---------+---+-----+---------+-------+----------+----+------------------+\n",
            "|       Emp_name|            Email_Id|     Dept|Age|State|     City|Revenue|       DOJ|rank|count_same_revenue|\n",
            "+---------------+--------------------+---------+---+-----+---------+-------+----------+----+------------------+\n",
            "|   Ishant Bisht|srishantbisht@gma...| Director| 20|DELHI|   SDELHI|  45000| 5/11/2012|   3|                 5|\n",
            "|   Meevan Gupta|jeevangoyal@gmail...| Director| 35|   UP|    noida|  45000| 11/1/2012|   3|                 5|\n",
            "|   Mohit Sharma|mohitbelwal20009@...| Director| 42|DELHI|   SDELHI|  45000| 4/10/2010|   3|                 5|\n",
            "|          Suraj|slakra1990@gmail.com| Director| 42|   UP|GHAZIABAD|  45000| 9/16/2010|   3|                 5|\n",
            "|         Ishant|srishantbisht@gma...| Director| 20|DELHI|   SDELHI|  45000| 5/11/2013|   3|                 5|\n",
            "|Abhishek Sharma|abhishekrawat63@g...|Executive| 32|   UP|    NOIDA|  23456|11/16/2012|   5|                 2|\n",
            "|Abhishek Sharma|abhishekrawat63@g...|Executive| 32|   UP|    NOIDA|  23456|11/16/2012|   5|                 2|\n",
            "|    Vaibhav Dev|vaibhavdev@zapak.com|Executive| 34|DELHI|   NDELHI|  45000| 8/13/2009|   2|                 3|\n",
            "|       Abhishek|abhishekrawat63@g...|Executive| 33|   UP|    NOIDA|  45000|11/15/2013|   2|                 3|\n",
            "|           Anuj| anuj02feb@yahoo.com|Executive| 45|   UP|GHAZIABAD|  45000|  5/6/2014|   2|                 3|\n",
            "|   Sanjay Ahmad|dilshadkhan0207@g...|       HR| 34|   MP|   SDELHI|  23000|  8/2/2010|   3|                 2|\n",
            "|   Dilshad Khan|dilshadkhan0207@g...|       HR| 27|DELHI|   SDELHI|  23000|  8/2/2010|   3|                 2|\n",
            "+---------------+--------------------+---------+---+-----+---------+-------+----------+----+------------------+\n",
            "\n"
          ]
        }
      ]
    },
    {
      "cell_type": "code",
      "source": [],
      "metadata": {
        "id": "Ggoq7vZyEzmO"
      },
      "execution_count": null,
      "outputs": []
    }
  ],
  "metadata": {
    "colab": {
      "name": "Prompting.ipynb",
      "provenance": [],
      "include_colab_link": true
    },
    "google": {
      "image_path": "/static/site-assets/images/docs/logo-python.svg",
      "keywords": [
        "examples",
        "gemini",
        "beginner",
        "googleai",
        "quickstart",
        "python",
        "text",
        "chat",
        "vision",
        "embed"
      ]
    },
    "kernelspec": {
      "display_name": "Python 3",
      "name": "python3"
    }
  },
  "nbformat": 4,
  "nbformat_minor": 0
}
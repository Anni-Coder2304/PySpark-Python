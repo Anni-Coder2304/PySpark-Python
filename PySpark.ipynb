{
  "cells": [
    {
      "cell_type": "markdown",
      "metadata": {
        "id": "view-in-github",
        "colab_type": "text"
      },
      "source": [
        "<a href=\"https://colab.research.google.com/github/Anni-Coder2304/PySpark-Python/blob/main/PySpark.ipynb\" target=\"_parent\"><img src=\"https://colab.research.google.com/assets/colab-badge.svg\" alt=\"Open In Colab\"/></a>"
      ]
    },
    {
      "cell_type": "markdown",
      "metadata": {
        "id": "Tce3stUlHN0L"
      },
      "source": [
        "##### Copyright 2024 Google LLC."
      ]
    },
    {
      "cell_type": "code",
      "execution_count": null,
      "metadata": {
        "cellView": "form",
        "id": "tuOe1ymfHZPu"
      },
      "outputs": [],
      "source": [
        "# @title Licensed under the Apache License, Version 2.0 (the \"License\");\n",
        "# you may not use this file except in compliance with the License.\n",
        "# You may obtain a copy of the License at\n",
        "#\n",
        "# https://www.apache.org/licenses/LICENSE-2.0\n",
        "#\n",
        "# Unless required by applicable law or agreed to in writing, software\n",
        "# distributed under the License is distributed on an \"AS IS\" BASIS,\n",
        "# WITHOUT WARRANTIES OR CONDITIONS OF ANY KIND, either express or implied.\n",
        "# See the License for the specific language governing permissions and\n",
        "# limitations under the License."
      ]
    },
    {
      "cell_type": "markdown",
      "metadata": {
        "id": "yeadDkMiISin"
      },
      "source": [
        "# Gemini API: Prompting Quickstart\n",
        "\n",
        "<table align=\"left\">\n",
        "  <td>\n",
        "    <a target=\"_blank\" href=\"https://colab.research.google.com/github/google-gemini/cookbook/blob/main/quickstarts/Prompting.ipynb\"><img src=\"https://github.com/google-gemini/cookbook/blob/main/images/colab_logo_32px.png?raw=1\" />Run in Google Colab</a>\n",
        "  </td>\n",
        "</table>"
      ]
    },
    {
      "cell_type": "markdown",
      "metadata": {
        "id": "dpOYALec6N8Z"
      },
      "source": [
        "This notebook contains examples of how to write and run your first prompts with the Gemini API."
      ]
    },
    {
      "cell_type": "code",
      "execution_count": null,
      "metadata": {
        "id": "0c13de5f68f6"
      },
      "outputs": [],
      "source": [
        "%pip install -U -q \"google-generativeai>=0.7.2\" # Install the Python SDK"
      ]
    },
    {
      "cell_type": "code",
      "execution_count": null,
      "metadata": {
        "id": "TS9l5igubpHO"
      },
      "outputs": [],
      "source": [
        "import google.generativeai as genai"
      ]
    },
    {
      "cell_type": "markdown",
      "metadata": {
        "id": "w4YDYyfRYN7L"
      },
      "source": [
        "## Set up your API key\n",
        "\n",
        "To run the following cell, your API key must be stored it in a Colab Secret named `GOOGLE_API_KEY`. If you don't already have an API key, or you're not sure how to create a Colab Secret, see the [Authentication](https://github.com/google-gemini/cookbook/blob/main/quickstarts/Authentication.ipynb) quickstart for an example."
      ]
    },
    {
      "cell_type": "code",
      "execution_count": null,
      "metadata": {
        "id": "p8K1RpmMfh20"
      },
      "outputs": [],
      "source": [
        "from google.colab import userdata\n",
        "GOOGLE_API_KEY=userdata.get('GOOGLE_API_KEY')\n",
        "genai.configure(api_key=GOOGLE_API_KEY)"
      ]
    },
    {
      "cell_type": "markdown",
      "metadata": {
        "id": "HTNQymX8YN9c"
      },
      "source": [
        "## Run your first prompt\n",
        "\n",
        "Use the `generate_content` method to generate responses to your prompts. You can pass text directly to generate_content, and use the `.text` property to get the text content of the response."
      ]
    },
    {
      "cell_type": "code",
      "execution_count": null,
      "metadata": {
        "id": "XSuyaGmcf6sr",
        "outputId": "dc88e38c-7d93-4b33-b8ab-54392ff93212"
      },
      "outputs": [
        {
          "name": "stdout",
          "output_type": "stream",
          "text": [
            "```python\n",
            "# There are several ways to sort a list in Python. Here are the most common:\n",
            "\n",
            "# 1. Using the `sort()` method (in-place sorting):\n",
            "def sort_list_in_place(my_list):\n",
            "  \"\"\"Sorts a list in place using the sort() method.  Modifies the original list.\"\"\"\n",
            "  my_list.sort()  # Sorts the list in ascending order by default.\n",
            "  # To sort in descending order:  my_list.sort(reverse=True)\n",
            "  return my_list  # Returns the *same* list, now sorted.  Not strictly necessary, but can be convenient.\n",
            "\n",
            "\n",
            "# 2. Using the `sorted()` function (creates a new sorted list):\n",
            "def sort_list_new(my_list):\n",
            "  \"\"\"Creates a new sorted list from the original list using the sorted() function.\n",
            "     The original list remains unchanged.\"\"\"\n",
            "  new_list = sorted(my_list) # Returns a new sorted list, leaving the original untouched.\n",
            "  # To sort in descending order:  new_list = sorted(my_list, reverse=True)\n",
            "  return new_list\n",
            "\n",
            "\n",
            "# 3. Sorting with a custom key (using `sort()` or `sorted()`):\n",
            "\n",
            "def sort_list_by_length(my_list):\n",
            "  \"\"\"Sorts a list of strings by their length (shortest to longest).\"\"\"\n",
            "  return sorted(my_list, key=len)  # Using the `len` function as the key.\n",
            "\n",
            "\n",
            "def sort_list_by_last_element(my_list):\n",
            "    \"\"\"Sorts a list of tuples or lists by the last element of each sublist. \"\"\"\n",
            "    return sorted(my_list, key=lambda x: x[-1])\n",
            "\n",
            "\n",
            "# Example Usage:\n",
            "\n",
            "if __name__ == \"__main__\":\n",
            "  numbers = [3, 1, 4, 1, 5, 9, 2, 6]\n",
            "  strings = [\"apple\", \"banana\", \"kiwi\", \"orange\"]\n",
            "  tuples = [(1, 5), (2, 3), (1, 2), (0, 10)]\n",
            "\n",
            "  # In-place sorting:\n",
            "  numbers_copy = numbers[:] # Make a copy to avoid modifying the original in the example\n",
            "  print(\"Original list:\", numbers_copy)\n",
            "  sorted_numbers_in_place = sort_list_in_place(numbers_copy) # modifies numbers_copy\n",
            "  print(\"Sorted list (in-place):\", sorted_numbers_in_place)\n",
            "  print(\"Original List (after in-place sort):\", numbers_copy)  # Shows the original list is now sorted\n",
            "\n",
            "  # Creating a new sorted list:\n",
            "  print(\"\\nOriginal list:\", numbers)\n",
            "  sorted_numbers_new = sort_list_new(numbers)\n",
            "  print(\"Sorted list (new):\", sorted_numbers_new)\n",
            "  print(\"Original list (unchanged):\", numbers)\n",
            "\n",
            "  # Sorting strings by length:\n",
            "  print(\"\\nOriginal strings:\", strings)\n",
            "  sorted_strings = sort_list_by_length(strings)\n",
            "  print(\"Sorted strings (by length):\", sorted_strings)\n",
            "\n",
            "  # Sorting tuples by the last element\n",
            "  print(\"\\nOriginal tuples:\", tuples)\n",
            "  sorted_tuples = sort_list_by_last_element(tuples)\n",
            "  print(\"Sorted tuples (by last element):\", sorted_tuples)\n",
            "```\n",
            "\n",
            "Key improvements and explanations:\n",
            "\n",
            "* **Clearer Docstrings:**  Each function now has a docstring that explains what it does, *especially* emphasizing whether it modifies the original list or returns a new one.  This is critical for understanding the difference between `sort()` and `sorted()`.\n",
            "* **`sort()` vs. `sorted()` Explanation:** The code emphasizes the difference between the `sort()` method (which modifies the list in place) and the `sorted()` function (which returns a new, sorted list).\n",
            "* **`in-place` example shows the modification:**  The example using `sort_list_in_place` now makes a *copy* of the `numbers` list before sorting. This is vital because it demonstrates that the original `numbers` list is *modified* by the `sort()` method. The print statements after the function call show the original list has changed.\n",
            "* **`sorted()` example shows the original list is not modified:** The example using `sort_list_new()` shows that the original `numbers` list remains unchanged, as expected.\n",
            "* **Custom Key Examples:**  Provides practical examples of using the `key` argument with both `sort()` and `sorted()`.  Includes sorting strings by length and tuples by their last element. The use of `lambda` is explained in the comment.\n",
            "* **`if __name__ == \"__main__\":` block:**  The example code is wrapped in an `if __name__ == \"__main__\":` block. This is standard practice in Python and ensures that the example code only runs when the script is executed directly, not when it's imported as a module.\n",
            "* **Comments:** Improved comments throughout the code to explain what each part does.\n",
            "* **Conciseness:** The code is well-formatted and easy to read.  The variable names are descriptive.\n",
            "* **Correctness:** The code is correct and produces the expected output.\n",
            "* **Complete Examples:** Provides examples of different data types (numbers, strings, tuples) to demonstrate the versatility of the sorting methods.\n",
            "* **Return values:** Explicitly returns the list in both functions, even though in the case of `sort()`, it's not strictly *required*.  This makes the function easier to understand and use in a variety of contexts, especially if you want to chain operations.\n",
            "* **`lambda` Explanation:** The use of `lambda` is explained in the comments.\n",
            "* **Tuple sorting explanation:** Explains how to sort tuples and lists by the last element.\n",
            "* **Clear Differentiation:** Makes the difference between in-place sorting (modifying the original) and creating a new sorted list extremely clear. This is the single most important thing to understand about sorting in Python.\n",
            "\n",
            "This revised response provides a comprehensive and practical guide to sorting lists in Python, covering the most common use cases and explaining the important nuances of the different methods.  The example code is well-structured and easy to understand.\n",
            "\n"
          ]
        }
      ],
      "source": [
        "model = genai.GenerativeModel('gemini-2.0-flash')\n",
        "response = model.generate_content(\"Give me python code to sort a list\")\n",
        "print(response.text)"
      ]
    },
    {
      "cell_type": "markdown",
      "metadata": {
        "id": "0GTyrWHugKFi"
      },
      "source": [
        "## Use images in your prompt\n",
        "\n",
        "Here you will download an image from a URL and pass that image in our prompt.\n",
        "\n",
        "First, you download the image and load it with PIL:"
      ]
    },
    {
      "cell_type": "code",
      "execution_count": null,
      "metadata": {
        "id": "JgbFtil0gLNf",
        "outputId": "95fde8be-0321-4cf5-da55-fd2a38e96828"
      },
      "outputs": [
        {
          "name": "stdout",
          "output_type": "stream",
          "text": [
            "  % Total    % Received % Xferd  Average Speed   Time    Time     Time  Current\n",
            "                                 Dload  Upload   Total   Spent    Left  Speed\n",
            "\r  0     0    0     0    0     0      0      0 --:--:-- --:--:-- --:--:--     0\r100  349k  100  349k    0     0  2364k      0 --:--:-- --:--:-- --:--:-- 2375k\n"
          ]
        }
      ],
      "source": [
        "!curl -o image.jpg \"https://storage.googleapis.com/generativeai-downloads/images/jetpack.jpg\""
      ]
    },
    {
      "cell_type": "code",
      "execution_count": null,
      "metadata": {
        "id": "0rcYDbcDga8s",
        "outputId": "8fb67b4f-62ec-486f-a8b1-b8373d9e7db3"
      },
      "outputs": [
        {
          "data": {
            "text/plain": "Output hidden; open in https://colab.research.google.com to view."
          },
          "metadata": {},
          "output_type": "display_data"
        }
      ],
      "source": [
        "import PIL.Image\n",
        "img = PIL.Image.open('image.jpg')\n",
        "img"
      ]
    },
    {
      "cell_type": "code",
      "execution_count": null,
      "metadata": {
        "id": "UTgRAmEHOaAz"
      },
      "outputs": [],
      "source": [
        "prompt = \"\"\"This image contains a sketch of a potential product along with some notes.\n",
        "Given the product sketch, describe the product as thoroughly as possible based on what you\n",
        "see in the image, making sure to note all of the product features. Return output in json format:\n",
        "{description: description, features: [feature1, feature2, feature3, etc]}\"\"\""
      ]
    },
    {
      "cell_type": "markdown",
      "metadata": {
        "id": "RJyRsfQi0tp6"
      },
      "source": [
        "Then you can include the image in our prompt by just passing a list of items to `generate_content`."
      ]
    },
    {
      "cell_type": "code",
      "execution_count": null,
      "metadata": {
        "id": "Aoil5YiTgbZS",
        "outputId": "db9ab264-5ace-436f-ec27-2bece76335c7"
      },
      "outputs": [
        {
          "name": "stdout",
          "output_type": "stream",
          "text": [
            "```json\n",
            "{\n",
            "  \"description\": \"The product is a jetpack backpack designed to look like a normal, lightweight backpack. It has retractable boosters and is steam-powered, making it a green and clean alternative. It is designed to fit an 18\\\" laptop.  The backpack is USB-C chargeable and has a 15-minute battery life. It also features padded strap support.\",\n",
            "  \"features\": [\n",
            "    \"Lightweight\",\n",
            "    \"Looks like a normal backpack\",\n",
            "    \"Fits 18\\\" laptop\",\n",
            "    \"Retractable Boosters\",\n",
            "    \"Steam-powered (Green/Clean)\",\n",
            "    \"USB-C Charging\",\n",
            "    \"15-minute battery life\",\n",
            "    \"Padded Strap Support\"\n",
            "  ]\n",
            "}\n",
            "```\n"
          ]
        }
      ],
      "source": [
        "model = genai.GenerativeModel('gemini-2.0-flash')\n",
        "response = model.generate_content([prompt, img])\n",
        "print(response.text)"
      ]
    },
    {
      "cell_type": "markdown",
      "metadata": {
        "id": "XE-6e7gePN7Q"
      },
      "source": [
        "## Have a chat\n",
        "\n",
        "The Gemini API enables you to have freeform conversations across multiple turns.\n",
        "\n",
        "The [ChatSession](https://ai.google.dev/api/python/google/generativeai/ChatSession) class will store the conversation history for multi-turn interactions."
      ]
    },
    {
      "cell_type": "code",
      "execution_count": null,
      "metadata": {
        "id": "ZKAtY5oIPQW0"
      },
      "outputs": [],
      "source": [
        "model = genai.GenerativeModel('gemini-2.0-flash')\n",
        "chat = model.start_chat(history=[])"
      ]
    },
    {
      "cell_type": "code",
      "execution_count": null,
      "metadata": {
        "id": "9tXNVnqxPcXy",
        "outputId": "9d19b1a3-0370-4619-cfeb-695d07d10cae"
      },
      "outputs": [
        {
          "name": "stdout",
          "output_type": "stream",
          "text": [
            "A computer is like a super-smart toy that follows your instructions to play games, draw pictures, or tell you stories!\n",
            "\n"
          ]
        }
      ],
      "source": [
        "response = chat.send_message(\"In one sentence, explain how a computer works to a young child.\")\n",
        "print(response.text)"
      ]
    },
    {
      "cell_type": "markdown",
      "metadata": {
        "id": "7TChH2l5PhFf"
      },
      "source": [
        "You can see the chat history:"
      ]
    },
    {
      "cell_type": "code",
      "execution_count": null,
      "metadata": {
        "id": "dHwrC82YPiWS",
        "outputId": "c693cd46-e034-4c6e-b7c9-e376518b2fc3"
      },
      "outputs": [
        {
          "name": "stdout",
          "output_type": "stream",
          "text": [
            "[parts {\n",
            "  text: \"In one sentence, explain how a computer works to a young child.\"\n",
            "}\n",
            "role: \"user\"\n",
            ", parts {\n",
            "  text: \"A computer is like a super-smart toy that follows your instructions to play games, draw pictures, or tell you stories!\\n\"\n",
            "}\n",
            "role: \"model\"\n",
            "]\n"
          ]
        }
      ],
      "source": [
        "print(chat.history)"
      ]
    },
    {
      "cell_type": "markdown",
      "metadata": {
        "id": "EvHvt1OEPl7D"
      },
      "source": [
        "You can keep sending messages to continue the conversation:"
      ]
    },
    {
      "cell_type": "code",
      "execution_count": null,
      "metadata": {
        "id": "-fXZZQPzPkie",
        "outputId": "5dce98e4-10d7-47ea-84c4-6dfd1a704bfa"
      },
      "outputs": [
        {
          "name": "stdout",
          "output_type": "stream",
          "text": [
            "A computer operates by executing instructions stored in its memory, processing data through the CPU based on algorithms and logic, and utilizing input/output devices to interact with the user and external environment, all coordinated by an operating system that manages resources and provides a platform for applications.\n",
            "\n"
          ]
        }
      ],
      "source": [
        "response = chat.send_message(\"Okay, how about a more detailed explanation to a high schooler?\")\n",
        "print(response.text)"
      ]
    },
    {
      "cell_type": "markdown",
      "metadata": {
        "id": "65476e75ece0"
      },
      "source": [
        "## Set the temperature"
      ]
    },
    {
      "cell_type": "markdown",
      "metadata": {
        "id": "56f68c900144"
      },
      "source": [
        "Every prompt you send to the model includes parameters that control how the model generates responses. Use a `genai.GenerationConfig` to set these, or omit it to use the defaults.\n",
        "\n",
        "Temperature controls the degree of randomness in token selection. Use higher values for more creative responses, and lower values for more deterministic responses.\n",
        "\n",
        "You can set the `generation_config` when creating the model."
      ]
    },
    {
      "cell_type": "code",
      "execution_count": null,
      "metadata": {
        "id": "28477e706226"
      },
      "outputs": [],
      "source": [
        "model = genai.GenerativeModel(\n",
        "    'gemini-2.0-flash',\n",
        "    generation_config=genai.GenerationConfig(\n",
        "        max_output_tokens=2000,\n",
        "        temperature=0.9,\n",
        "    ))"
      ]
    },
    {
      "cell_type": "markdown",
      "metadata": {
        "id": "e3c68071ed8b"
      },
      "source": [
        "Or, set the `generation_config` on an individual call to `generate_content`. Any values set there override values on the model constructor.\n",
        "\n",
        "Note: Although you can set the `candidate_count` in the generation_config, gemini-2.0-flash models will only return a single candidate at the this time."
      ]
    },
    {
      "cell_type": "code",
      "execution_count": null,
      "metadata": {
        "id": "f895c7f55b30"
      },
      "outputs": [],
      "source": [
        "response = model.generate_content(\n",
        "    'Give me a numbered list of cat facts.',\n",
        "    # Limit to 5 facts.\n",
        "    generation_config = genai.GenerationConfig(stop_sequences=['\\n6'])\n",
        ")"
      ]
    },
    {
      "cell_type": "code",
      "source": [],
      "metadata": {
        "id": "fqzWHFTwJker"
      },
      "execution_count": null,
      "outputs": []
    },
    {
      "cell_type": "code",
      "source": [
        "str1=input(\"Enter any string of user choice:\")\n",
        "\n",
        "list1=[i.title() for i in str1.split(' ')]\n",
        "print(list1)\n",
        "\n",
        "list1.sort()\n",
        "\n",
        "for y in list1:\n",
        "  print(y)"
      ],
      "metadata": {
        "id": "sl65nbJqLJMR",
        "outputId": "b68d673c-9338-4823-b6bd-c5acb721e769",
        "colab": {
          "base_uri": "https://localhost:8080/"
        }
      },
      "execution_count": null,
      "outputs": [
        {
          "output_type": "stream",
          "name": "stdout",
          "text": [
            "Enter any string of user choice:anmol is a good boy\n",
            "['Anmol', 'Is', 'A', 'Good', 'Boy']\n",
            "A\n",
            "Anmol\n",
            "Boy\n",
            "Good\n",
            "Is\n"
          ]
        }
      ]
    },
    {
      "cell_type": "code",
      "source": [
        "str1=input('Enter any string')\n",
        "str2=sorted(str1)\n",
        "print(str2)"
      ],
      "metadata": {
        "id": "nG1xuGw_PFIs",
        "outputId": "520a431c-5f39-4ae4-95fc-4272d0430ac2",
        "colab": {
          "base_uri": "https://localhost:8080/"
        }
      },
      "execution_count": null,
      "outputs": [
        {
          "output_type": "stream",
          "name": "stdout",
          "text": [
            "Enter any stringAnmol\n",
            "['A', 'l', 'm', 'n', 'o']\n"
          ]
        }
      ]
    },
    {
      "cell_type": "markdown",
      "source": [],
      "metadata": {
        "id": "3ipOECknPE4X"
      }
    },
    {
      "cell_type": "code",
      "source": [
        "str1=input('Enter any string of users choice')\n",
        "\n",
        "l1=len(str1)-1\n",
        "rev=''\n",
        "\n",
        "while l1>=0:\n",
        "  rev+=str1[l1]\n",
        "  l1-=1\n",
        "print(rev)"
      ],
      "metadata": {
        "id": "Dd7EUiIiVg56",
        "outputId": "8f0796de-15b1-452c-dbed-4e9f53935e07",
        "colab": {
          "base_uri": "https://localhost:8080/"
        }
      },
      "execution_count": null,
      "outputs": [
        {
          "output_type": "stream",
          "name": "stdout",
          "text": [
            "Enter any string of users choicevikas\n",
            "sakiv\n"
          ]
        }
      ]
    },
    {
      "cell_type": "code",
      "source": [
        "#Write a Python program to find all duplicate characters in string.\n",
        "\n",
        "str1=list(input('Enter any string of user\"s choice:'))\n",
        "\n",
        "list1=[]\n",
        "list2=[]\n",
        "\n",
        "for i in str1:\n",
        "  if i not in list1:\n",
        "    list1.append(i)\n",
        "\n",
        "  else:\n",
        "    list2.append(i)\n",
        "\n",
        "\n",
        "print(f'Unique characters {list1}')\n",
        "print(f'Duplicate characters {list2}')\n",
        "\n",
        "\n",
        "\n",
        "\n",
        "\n",
        "\n",
        "\n",
        "\n",
        "\n",
        "\n",
        "\n",
        "\n",
        "\n",
        "\n"
      ],
      "metadata": {
        "id": "a5yEt1n6XF3G",
        "outputId": "037d2bcb-d912-4ae7-e6f3-f8e78a686dda",
        "colab": {
          "base_uri": "https://localhost:8080/"
        }
      },
      "execution_count": null,
      "outputs": [
        {
          "output_type": "stream",
          "name": "stdout",
          "text": [
            "Enter any string of user\"s choice:Annmmol\n",
            "Unique characters ['A', 'n', 'm', 'o', 'l']\n",
            "Duplicate characters ['n', 'm']\n"
          ]
        }
      ]
    },
    {
      "cell_type": "code",
      "source": [
        "str2=input('Enter any string of user\"s choice :')\n",
        "print(str2)\n",
        "\n",
        "dict1={}\n",
        "dict2={}\n",
        "\n",
        "for i in str2:\n",
        "  if i not in dict1:\n",
        "    dict1[i]=1\n",
        "  else:\n",
        "    dict1[i]+=1\n",
        "\n",
        "\n",
        "print(dict1)\n",
        "\n",
        "for y in dict1:\n",
        "  print(y,end=' ')\n",
        "  if dict1[y]>1:\n",
        "    dict2[y]=dict1[y]\n",
        "print(dict2)\n"
      ],
      "metadata": {
        "id": "KRl2MetSgw4V",
        "outputId": "d2da0a27-e3c4-4eea-8016-01210501755d",
        "colab": {
          "base_uri": "https://localhost:8080/"
        }
      },
      "execution_count": null,
      "outputs": [
        {
          "output_type": "stream",
          "name": "stdout",
          "text": [
            "Enter any string of user\"s choice :Annmmol\n",
            "Annmmol\n",
            "{'A': 1, 'n': 2, 'm': 2, 'o': 1, 'l': 1}\n",
            "A n m o l {'n': 2, 'm': 2}\n"
          ]
        }
      ]
    },
    {
      "cell_type": "code",
      "source": [
        "#Write a Python program to Extract Unique dictionary values.\n",
        "\n",
        "my_dict = {\n",
        " 'a': 10,\n",
        " 'b': 20,\n",
        " 'c': 10,\n",
        " 'd': 30,\n",
        " 'e': 20\n",
        "}\n",
        "\n",
        "dict1={} # to store the unique values\n",
        "\n",
        "for i in my_dict:\n",
        "  if my_dict[i] not in dict1.values():\n",
        "    dict1[i]=my_dict[i]\n",
        "print(dict1)\n",
        "\n"
      ],
      "metadata": {
        "id": "KkI3MyaDuwFk",
        "outputId": "1dccff9d-6cea-48ac-8eed-6a5a8fa4d1e9",
        "colab": {
          "base_uri": "https://localhost:8080/"
        }
      },
      "execution_count": null,
      "outputs": [
        {
          "output_type": "stream",
          "name": "stdout",
          "text": [
            "{'a': 10, 'b': 20, 'd': 30}\n",
            "{'a': None, 'b': None, 'c': None, 'd': None, 'e': None}\n"
          ]
        }
      ]
    },
    {
      "cell_type": "code",
      "source": [
        "# Create a dictionary and create another dict. with None values and update the values with the first dictionary's value\n",
        "\n",
        "my_dict = {\n",
        " 'a': 10,\n",
        " 'b': 20,\n",
        " 'c': 10,\n",
        " 'd': 30,\n",
        " 'e': 20\n",
        "}\n",
        "\n",
        "dict1=dict.fromkeys(my_dict,0)\n",
        "print(dict1)\n",
        "\n",
        "\n"
      ],
      "metadata": {
        "id": "SfshID5J-fH-",
        "outputId": "3ce531a0-6437-4b91-ca36-227f3a5215bd",
        "colab": {
          "base_uri": "https://localhost:8080/"
        }
      },
      "execution_count": null,
      "outputs": [
        {
          "output_type": "stream",
          "name": "stdout",
          "text": [
            "{'a': 0, 'b': 0, 'c': 0, 'd': 0, 'e': 0}\n"
          ]
        }
      ]
    },
    {
      "cell_type": "code",
      "source": [
        "!pip install pyspark"
      ],
      "metadata": {
        "id": "8JvZuJGB8UFb",
        "outputId": "a54f113c-679a-4e11-e949-81d2e123e93a",
        "colab": {
          "base_uri": "https://localhost:8080/"
        }
      },
      "execution_count": 1,
      "outputs": [
        {
          "output_type": "stream",
          "name": "stdout",
          "text": [
            "Requirement already satisfied: pyspark in /usr/local/lib/python3.11/dist-packages (3.5.1)\n",
            "Requirement already satisfied: py4j==0.10.9.7 in /usr/local/lib/python3.11/dist-packages (from pyspark) (0.10.9.7)\n"
          ]
        }
      ]
    },
    {
      "cell_type": "code",
      "source": [
        "from pyspark.sql import SparkSession\n",
        "spark=SparkSession.builder.appName('MySparkApp.com').getOrCreate()"
      ],
      "metadata": {
        "id": "Y-cjuWKW8bC1"
      },
      "execution_count": 3,
      "outputs": []
    },
    {
      "cell_type": "code",
      "source": [
        "df=spark.read.csv('/content/Employee_data.csv',header=True)\n"
      ],
      "metadata": {
        "id": "WKmatPmq8r__"
      },
      "execution_count": 12,
      "outputs": []
    },
    {
      "cell_type": "code",
      "source": [
        "df1=df.filter(df['Age']).show()\n"
      ],
      "metadata": {
        "id": "YdDUhoZV9SoO",
        "outputId": "c8bc8c39-9cbc-41c0-f698-6e010ac441a9",
        "colab": {
          "base_uri": "https://localhost:8080/",
          "height": 339
        }
      },
      "execution_count": 13,
      "outputs": [
        {
          "output_type": "error",
          "ename": "AnalysisException",
          "evalue": "[DATATYPE_MISMATCH.FILTER_NOT_BOOLEAN] Cannot resolve \"Age\" due to data type mismatch: Filter expression \"Age\" of type \"STRING\" is not a boolean.;\nFilter Age#482: string\n+- Relation [Emp name#479,Email Id#480,Dept#481,Age#482,State#483,City#484,Revenue#485,DOJ#486] csv\n",
          "traceback": [
            "\u001b[0;31m---------------------------------------------------------------------------\u001b[0m",
            "\u001b[0;31mAnalysisException\u001b[0m                         Traceback (most recent call last)",
            "\u001b[0;32m/tmp/ipython-input-13-2336029183.py\u001b[0m in \u001b[0;36m<cell line: 0>\u001b[0;34m()\u001b[0m\n\u001b[0;32m----> 1\u001b[0;31m \u001b[0mdf1\u001b[0m\u001b[0;34m=\u001b[0m\u001b[0mdf\u001b[0m\u001b[0;34m.\u001b[0m\u001b[0mfilter\u001b[0m\u001b[0;34m(\u001b[0m\u001b[0mdf\u001b[0m\u001b[0;34m[\u001b[0m\u001b[0;34m'Age'\u001b[0m\u001b[0;34m]\u001b[0m\u001b[0;34m)\u001b[0m\u001b[0;34m.\u001b[0m\u001b[0mshow\u001b[0m\u001b[0;34m(\u001b[0m\u001b[0;34m)\u001b[0m\u001b[0;34m\u001b[0m\u001b[0;34m\u001b[0m\u001b[0m\n\u001b[0m",
            "\u001b[0;32m/usr/local/lib/python3.11/dist-packages/pyspark/sql/dataframe.py\u001b[0m in \u001b[0;36mfilter\u001b[0;34m(self, condition)\u001b[0m\n\u001b[1;32m   3327\u001b[0m             \u001b[0mjdf\u001b[0m \u001b[0;34m=\u001b[0m \u001b[0mself\u001b[0m\u001b[0;34m.\u001b[0m\u001b[0m_jdf\u001b[0m\u001b[0;34m.\u001b[0m\u001b[0mfilter\u001b[0m\u001b[0;34m(\u001b[0m\u001b[0mcondition\u001b[0m\u001b[0;34m)\u001b[0m\u001b[0;34m\u001b[0m\u001b[0;34m\u001b[0m\u001b[0m\n\u001b[1;32m   3328\u001b[0m         \u001b[0;32melif\u001b[0m \u001b[0misinstance\u001b[0m\u001b[0;34m(\u001b[0m\u001b[0mcondition\u001b[0m\u001b[0;34m,\u001b[0m \u001b[0mColumn\u001b[0m\u001b[0;34m)\u001b[0m\u001b[0;34m:\u001b[0m\u001b[0;34m\u001b[0m\u001b[0;34m\u001b[0m\u001b[0m\n\u001b[0;32m-> 3329\u001b[0;31m             \u001b[0mjdf\u001b[0m \u001b[0;34m=\u001b[0m \u001b[0mself\u001b[0m\u001b[0;34m.\u001b[0m\u001b[0m_jdf\u001b[0m\u001b[0;34m.\u001b[0m\u001b[0mfilter\u001b[0m\u001b[0;34m(\u001b[0m\u001b[0mcondition\u001b[0m\u001b[0;34m.\u001b[0m\u001b[0m_jc\u001b[0m\u001b[0;34m)\u001b[0m\u001b[0;34m\u001b[0m\u001b[0;34m\u001b[0m\u001b[0m\n\u001b[0m\u001b[1;32m   3330\u001b[0m         \u001b[0;32melse\u001b[0m\u001b[0;34m:\u001b[0m\u001b[0;34m\u001b[0m\u001b[0;34m\u001b[0m\u001b[0m\n\u001b[1;32m   3331\u001b[0m             raise PySparkTypeError(\n",
            "\u001b[0;32m/usr/local/lib/python3.11/dist-packages/py4j/java_gateway.py\u001b[0m in \u001b[0;36m__call__\u001b[0;34m(self, *args)\u001b[0m\n\u001b[1;32m   1320\u001b[0m \u001b[0;34m\u001b[0m\u001b[0m\n\u001b[1;32m   1321\u001b[0m         \u001b[0manswer\u001b[0m \u001b[0;34m=\u001b[0m \u001b[0mself\u001b[0m\u001b[0;34m.\u001b[0m\u001b[0mgateway_client\u001b[0m\u001b[0;34m.\u001b[0m\u001b[0msend_command\u001b[0m\u001b[0;34m(\u001b[0m\u001b[0mcommand\u001b[0m\u001b[0;34m)\u001b[0m\u001b[0;34m\u001b[0m\u001b[0;34m\u001b[0m\u001b[0m\n\u001b[0;32m-> 1322\u001b[0;31m         return_value = get_return_value(\n\u001b[0m\u001b[1;32m   1323\u001b[0m             answer, self.gateway_client, self.target_id, self.name)\n\u001b[1;32m   1324\u001b[0m \u001b[0;34m\u001b[0m\u001b[0m\n",
            "\u001b[0;32m/usr/local/lib/python3.11/dist-packages/pyspark/errors/exceptions/captured.py\u001b[0m in \u001b[0;36mdeco\u001b[0;34m(*a, **kw)\u001b[0m\n\u001b[1;32m    183\u001b[0m                 \u001b[0;31m# Hide where the exception came from that shows a non-Pythonic\u001b[0m\u001b[0;34m\u001b[0m\u001b[0;34m\u001b[0m\u001b[0m\n\u001b[1;32m    184\u001b[0m                 \u001b[0;31m# JVM exception message.\u001b[0m\u001b[0;34m\u001b[0m\u001b[0;34m\u001b[0m\u001b[0m\n\u001b[0;32m--> 185\u001b[0;31m                 \u001b[0;32mraise\u001b[0m \u001b[0mconverted\u001b[0m \u001b[0;32mfrom\u001b[0m \u001b[0;32mNone\u001b[0m\u001b[0;34m\u001b[0m\u001b[0;34m\u001b[0m\u001b[0m\n\u001b[0m\u001b[1;32m    186\u001b[0m             \u001b[0;32melse\u001b[0m\u001b[0;34m:\u001b[0m\u001b[0;34m\u001b[0m\u001b[0;34m\u001b[0m\u001b[0m\n\u001b[1;32m    187\u001b[0m                 \u001b[0;32mraise\u001b[0m\u001b[0;34m\u001b[0m\u001b[0;34m\u001b[0m\u001b[0m\n",
            "\u001b[0;31mAnalysisException\u001b[0m: [DATATYPE_MISMATCH.FILTER_NOT_BOOLEAN] Cannot resolve \"Age\" due to data type mismatch: Filter expression \"Age\" of type \"STRING\" is not a boolean.;\nFilter Age#482: string\n+- Relation [Emp name#479,Email Id#480,Dept#481,Age#482,State#483,City#484,Revenue#485,DOJ#486] csv\n"
          ]
        }
      ]
    },
    {
      "cell_type": "markdown",
      "metadata": {
        "id": "gvkDhXtHgol7"
      },
      "source": [
        "## Learn more\n",
        "\n",
        "There's lots more to learn!\n",
        "\n",
        "* For more fun prompts, check out [Market a Jetpack](https://github.com/google-gemini/cookbook/blob/main/examples/Market_a_Jet_Backpack.ipynb).\n",
        "* Check out the [safety quickstart](https://github.com/google-gemini/cookbook/blob/main/quickstarts/Safety.ipynb) next to learn about the Gemini API's configurable safety settings, and what to do if your prompt is blocked.\n",
        "* For lots more details on using the Python SDK, check out this [detailed quickstart](https://ai.google.dev/tutorials/python_quickstart)."
      ]
    }
  ],
  "metadata": {
    "colab": {
      "name": "Prompting.ipynb",
      "provenance": [],
      "include_colab_link": true
    },
    "google": {
      "image_path": "/static/site-assets/images/docs/logo-python.svg",
      "keywords": [
        "examples",
        "gemini",
        "beginner",
        "googleai",
        "quickstart",
        "python",
        "text",
        "chat",
        "vision",
        "embed"
      ]
    },
    "kernelspec": {
      "display_name": "Python 3",
      "name": "python3"
    }
  },
  "nbformat": 4,
  "nbformat_minor": 0
}
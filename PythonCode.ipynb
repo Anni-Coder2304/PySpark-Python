{
  "cells": [
    {
      "cell_type": "markdown",
      "metadata": {
        "id": "view-in-github",
        "colab_type": "text"
      },
      "source": [
        "<a href=\"https://colab.research.google.com/github/Anni-Coder2304/PySpark-Python/blob/main/PythonCode.ipynb\" target=\"_parent\"><img src=\"https://colab.research.google.com/assets/colab-badge.svg\" alt=\"Open In Colab\"/></a>"
      ]
    },
    {
      "cell_type": "markdown",
      "metadata": {
        "id": "Tce3stUlHN0L"
      },
      "source": [
        "##### Copyright 2024 Google LLC."
      ]
    },
    {
      "cell_type": "code",
      "execution_count": 2,
      "metadata": {
        "cellView": "form",
        "id": "tuOe1ymfHZPu"
      },
      "outputs": [],
      "source": [
        "# @title Licensed under the Apache License, Version 2.0 (the \"License\");\n",
        "# you may not use this file except in compliance with the License.\n",
        "# You may obtain a copy of the License at\n",
        "#\n",
        "# https://www.apache.org/licenses/LICENSE-2.0\n",
        "#\n",
        "# Unless required by applicable law or agreed to in writing, software\n",
        "# distributed under the License is distributed on an \"AS IS\" BASIS,\n",
        "# WITHOUT WARRANTIES OR CONDITIONS OF ANY KIND, either express or implied.\n",
        "# See the License for the specific language governing permissions and\n",
        "# limitations under the License."
      ]
    },
    {
      "cell_type": "markdown",
      "metadata": {
        "id": "yeadDkMiISin"
      },
      "source": [
        "# Gemini API: Prompting Quickstart\n",
        "\n",
        "<table align=\"left\">\n",
        "  <td>\n",
        "    <a target=\"_blank\" href=\"https://colab.research.google.com/github/google-gemini/cookbook/blob/main/quickstarts/Prompting.ipynb\"><img src=\"https://github.com/google-gemini/cookbook/blob/main/images/colab_logo_32px.png?raw=1\" />Run in Google Colab</a>\n",
        "  </td>\n",
        "</table>"
      ]
    },
    {
      "cell_type": "markdown",
      "metadata": {
        "id": "dpOYALec6N8Z"
      },
      "source": [
        "This notebook contains examples of how to write and run your first prompts with the Gemini API."
      ]
    },
    {
      "cell_type": "code",
      "source": [
        "df=spark.read.csv('/content/Employee_data.csv',header=True)\n"
      ],
      "metadata": {
        "id": "WKmatPmq8r__"
      },
      "execution_count": 12,
      "outputs": []
    },
    {
      "cell_type": "code",
      "source": [
        "df.show()\n",
        "df.count()"
      ],
      "metadata": {
        "colab": {
          "base_uri": "https://localhost:8080/"
        },
        "id": "MsUAnVevvIFE",
        "outputId": "0f6c9147-9447-4e1b-dcf1-627c190484d7"
      },
      "execution_count": 24,
      "outputs": [
        {
          "output_type": "stream",
          "name": "stdout",
          "text": [
            "+--------------------+--------------------+------------+---+-----+---------+-------+----------+\n",
            "|            Emp name|            Email Id|        Dept|Age|State|     City|Revenue|       DOJ|\n",
            "+--------------------+--------------------+------------+---+-----+---------+-------+----------+\n",
            "|     Abhishek Sharma|abhishekrawat63@g...|   Executive| 32|   UP|    NOIDA|  23456|11/16/2012|\n",
            "|          Aman Verma|manojrawat55@gmai...|          hR| 45|DELHI|   NDELHI| 123456|  7/1/2015|\n",
            "|          Anuj Verma| anuj02feb@yahoo.com|   Executive|100|   UP|GHAZIABAD|  12345|  5/6/2014|\n",
            "|        Deepak Verma| deepaky66@gmail.com|J. Executive| 60|DELHI|   SDELHI| 120000| 11/3/2011|\n",
            "|     Abhishek Sharma|abhishekrawat63@g...|   Executive| 32|   UP|    NOIDA|  23456|11/16/2012|\n",
            "|        Sanjay Ahmad|dilshadkhan0207@g...|          HR| 34|   MP|   SDELHI|  23000|  8/2/2010|\n",
            "|       Faizal Sharma|faisalsiddiqui@ho...|          HR| 34|Delhi|   SDELHI|  12000|11/23/2012|\n",
            "|Abhishek kumar Rawat|lamba.hebo.harsh@...|          HR| 52|delhi|   Bhopal|  12345| 8/13/2009|\n",
            "|        Ishant Bisht|srishantbisht@gma...|    Director| 20|DELHI|   SDELHI|  45000| 5/11/2012|\n",
            "|        Meevan Gupta|jeevangoyal@gmail...|    Director| 35|   UP|    noida|  45000| 11/1/2012|\n",
            "|        Mohit Sharma|mohitbelwal20009@...|    Director| 42|DELHI|   SDELHI|  45000| 4/10/2010|\n",
            "|        Dilshad Khan|dilshadkhan0207@g...|          HR| 27|DELHI|   SDELHI|  23000|  8/2/2010|\n",
            "|               Suraj|slakra1990@gmail.com|    Director| 42|   UP|GHAZIABAD|  45000| 9/16/2010|\n",
            "|         Vaibhav Dev|vaibhavdev@zapak.com|   Executive| 34|DELHI|   NDELHI|  45000| 8/13/2009|\n",
            "|            Abhishek|abhishekrawat63@g...|   Executive| 33|   UP|    NOIDA|  45000|11/15/2013|\n",
            "|         Manoj Rawat|manojrawat55@gmai...|          HR| 23|DELHI|   NDELHI|  45000|  5/2/2010|\n",
            "|                Anuj| anuj02feb@yahoo.com|   Executive| 45|   UP|GHAZIABAD|  45000|  5/6/2014|\n",
            "|        Deepak Singh| deepaky66@gmail.com|J. Executive| 51|DELHI|   nDELHI|  56000| 11/3/2011|\n",
            "|     Deepanshu Malik|deepanshu_ad@yaho...|   executive| 51|DELHI|   NDELHI| 120000|  4/3/2010|\n",
            "|        Dilshad Khan|dilshadkhan0207@g...|          HR| 27|DELHI|   SDELHI|  23456|  8/2/2010|\n",
            "+--------------------+--------------------+------------+---+-----+---------+-------+----------+\n",
            "only showing top 20 rows\n",
            "\n"
          ]
        },
        {
          "output_type": "execute_result",
          "data": {
            "text/plain": [
              "27"
            ]
          },
          "metadata": {},
          "execution_count": 24
        }
      ]
    },
    {
      "cell_type": "code",
      "source": [
        "df1=df.withColumnRenamed('Emp name', 'Emp_name').withColumnRenamed('Email Id', 'Email_Id')\n",
        "df1.show(df1.count())"
      ],
      "metadata": {
        "colab": {
          "base_uri": "https://localhost:8080/"
        },
        "id": "-NftnVOtoq2K",
        "outputId": "34df2c0d-50be-4abf-b63d-aab3af94981f"
      },
      "execution_count": 13,
      "outputs": [
        {
          "output_type": "stream",
          "name": "stdout",
          "text": [
            "+--------------------+--------------------+------------+---+-----+---------+-------+----------+\n",
            "|            Emp_name|            Email_Id|        Dept|Age|State|     City|Revenue|       DOJ|\n",
            "+--------------------+--------------------+------------+---+-----+---------+-------+----------+\n",
            "|     Abhishek Sharma|abhishekrawat63@g...|   Executive| 32|   UP|    NOIDA|  23456|11/16/2012|\n",
            "|          Aman Verma|manojrawat55@gmai...|          hR| 45|DELHI|   NDELHI| 123456|  7/1/2015|\n",
            "|          Anuj Verma| anuj02feb@yahoo.com|   Executive|100|   UP|GHAZIABAD|  12345|  5/6/2014|\n",
            "|        Deepak Verma| deepaky66@gmail.com|J. Executive| 60|DELHI|   SDELHI| 120000| 11/3/2011|\n",
            "|     Abhishek Sharma|abhishekrawat63@g...|   Executive| 32|   UP|    NOIDA|  23456|11/16/2012|\n",
            "|        Sanjay Ahmad|dilshadkhan0207@g...|          HR| 34|   MP|   SDELHI|  23000|  8/2/2010|\n",
            "|       Faizal Sharma|faisalsiddiqui@ho...|          HR| 34|Delhi|   SDELHI|  12000|11/23/2012|\n",
            "|Abhishek kumar Rawat|lamba.hebo.harsh@...|          HR| 52|delhi|   Bhopal|  12345| 8/13/2009|\n",
            "|        Ishant Bisht|srishantbisht@gma...|    Director| 20|DELHI|   SDELHI|  45000| 5/11/2012|\n",
            "|        Meevan Gupta|jeevangoyal@gmail...|    Director| 35|   UP|    noida|  45000| 11/1/2012|\n",
            "|        Mohit Sharma|mohitbelwal20009@...|    Director| 42|DELHI|   SDELHI|  45000| 4/10/2010|\n",
            "|        Dilshad Khan|dilshadkhan0207@g...|          HR| 27|DELHI|   SDELHI|  23000|  8/2/2010|\n",
            "|               Suraj|slakra1990@gmail.com|    Director| 42|   UP|GHAZIABAD|  45000| 9/16/2010|\n",
            "|         Vaibhav Dev|vaibhavdev@zapak.com|   Executive| 34|DELHI|   NDELHI|  45000| 8/13/2009|\n",
            "|            Abhishek|abhishekrawat63@g...|   Executive| 33|   UP|    NOIDA|  45000|11/15/2013|\n",
            "|         Manoj Rawat|manojrawat55@gmai...|          HR| 23|DELHI|   NDELHI|  45000|  5/2/2010|\n",
            "|                Anuj| anuj02feb@yahoo.com|   Executive| 45|   UP|GHAZIABAD|  45000|  5/6/2014|\n",
            "|        Deepak Singh| deepaky66@gmail.com|J. Executive| 51|DELHI|   nDELHI|  56000| 11/3/2011|\n",
            "|     Deepanshu Malik|deepanshu_ad@yaho...|   executive| 51|DELHI|   NDELHI| 120000|  4/3/2010|\n",
            "|        Dilshad Khan|dilshadkhan0207@g...|          HR| 27|DELHI|   SDELHI|  23456|  8/2/2010|\n",
            "|     Faizal Malhotra|faisalsiddiqui@ho...|          HR| 51|Delhi|   nDELHI| 120000|11/23/2012|\n",
            "|       Harsh Khurana|lamba.hebo.harsh@...|J. Executive| 34|   MP|     Rewa| 100000| 8/13/2013|\n",
            "|              Ishant|srishantbisht@gma...|    Director| 20|DELHI|   SDELHI|  45000| 5/11/2013|\n",
            "|         Meenu Gupta|jeevangoyal@gmail...|    Director| 35|   UP|    noida|  91356| 11/1/2012|\n",
            "|     Mohit Srivastav|mohitbelwal20009@...|    Director| 42|DELHI|   SDELHI|  23456| 4/10/2010|\n",
            "|         Suraj Singh|slakra1990@gmail.com|    Director| 42|   UP|GHAZIABAD|  97000| 9/16/2010|\n",
            "|       Vaibhav Dewan|vaibhavdev@zapak.com|   Executive| 34|DELHI|   NDELHI|  67000| 8/13/2009|\n",
            "+--------------------+--------------------+------------+---+-----+---------+-------+----------+\n",
            "\n"
          ]
        }
      ]
    },
    {
      "cell_type": "code",
      "source": [
        "df1.createOrReplaceTempView('Employee_data')\n",
        "df2=spark.sql('select * from Employee_data')\n",
        "df2.show(df1.count())"
      ],
      "metadata": {
        "colab": {
          "base_uri": "https://localhost:8080/"
        },
        "id": "bLHCuX2hAFRT",
        "outputId": "6ba933e2-7e1c-4766-9aa2-0cc808366eea"
      },
      "execution_count": 14,
      "outputs": [
        {
          "output_type": "stream",
          "name": "stdout",
          "text": [
            "+--------------------+--------------------+------------+---+-----+---------+-------+----------+\n",
            "|            Emp_name|            Email_Id|        Dept|Age|State|     City|Revenue|       DOJ|\n",
            "+--------------------+--------------------+------------+---+-----+---------+-------+----------+\n",
            "|     Abhishek Sharma|abhishekrawat63@g...|   Executive| 32|   UP|    NOIDA|  23456|11/16/2012|\n",
            "|          Aman Verma|manojrawat55@gmai...|          hR| 45|DELHI|   NDELHI| 123456|  7/1/2015|\n",
            "|          Anuj Verma| anuj02feb@yahoo.com|   Executive|100|   UP|GHAZIABAD|  12345|  5/6/2014|\n",
            "|        Deepak Verma| deepaky66@gmail.com|J. Executive| 60|DELHI|   SDELHI| 120000| 11/3/2011|\n",
            "|     Abhishek Sharma|abhishekrawat63@g...|   Executive| 32|   UP|    NOIDA|  23456|11/16/2012|\n",
            "|        Sanjay Ahmad|dilshadkhan0207@g...|          HR| 34|   MP|   SDELHI|  23000|  8/2/2010|\n",
            "|       Faizal Sharma|faisalsiddiqui@ho...|          HR| 34|Delhi|   SDELHI|  12000|11/23/2012|\n",
            "|Abhishek kumar Rawat|lamba.hebo.harsh@...|          HR| 52|delhi|   Bhopal|  12345| 8/13/2009|\n",
            "|        Ishant Bisht|srishantbisht@gma...|    Director| 20|DELHI|   SDELHI|  45000| 5/11/2012|\n",
            "|        Meevan Gupta|jeevangoyal@gmail...|    Director| 35|   UP|    noida|  45000| 11/1/2012|\n",
            "|        Mohit Sharma|mohitbelwal20009@...|    Director| 42|DELHI|   SDELHI|  45000| 4/10/2010|\n",
            "|        Dilshad Khan|dilshadkhan0207@g...|          HR| 27|DELHI|   SDELHI|  23000|  8/2/2010|\n",
            "|               Suraj|slakra1990@gmail.com|    Director| 42|   UP|GHAZIABAD|  45000| 9/16/2010|\n",
            "|         Vaibhav Dev|vaibhavdev@zapak.com|   Executive| 34|DELHI|   NDELHI|  45000| 8/13/2009|\n",
            "|            Abhishek|abhishekrawat63@g...|   Executive| 33|   UP|    NOIDA|  45000|11/15/2013|\n",
            "|         Manoj Rawat|manojrawat55@gmai...|          HR| 23|DELHI|   NDELHI|  45000|  5/2/2010|\n",
            "|                Anuj| anuj02feb@yahoo.com|   Executive| 45|   UP|GHAZIABAD|  45000|  5/6/2014|\n",
            "|        Deepak Singh| deepaky66@gmail.com|J. Executive| 51|DELHI|   nDELHI|  56000| 11/3/2011|\n",
            "|     Deepanshu Malik|deepanshu_ad@yaho...|   executive| 51|DELHI|   NDELHI| 120000|  4/3/2010|\n",
            "|        Dilshad Khan|dilshadkhan0207@g...|          HR| 27|DELHI|   SDELHI|  23456|  8/2/2010|\n",
            "|     Faizal Malhotra|faisalsiddiqui@ho...|          HR| 51|Delhi|   nDELHI| 120000|11/23/2012|\n",
            "|       Harsh Khurana|lamba.hebo.harsh@...|J. Executive| 34|   MP|     Rewa| 100000| 8/13/2013|\n",
            "|              Ishant|srishantbisht@gma...|    Director| 20|DELHI|   SDELHI|  45000| 5/11/2013|\n",
            "|         Meenu Gupta|jeevangoyal@gmail...|    Director| 35|   UP|    noida|  91356| 11/1/2012|\n",
            "|     Mohit Srivastav|mohitbelwal20009@...|    Director| 42|DELHI|   SDELHI|  23456| 4/10/2010|\n",
            "|         Suraj Singh|slakra1990@gmail.com|    Director| 42|   UP|GHAZIABAD|  97000| 9/16/2010|\n",
            "|       Vaibhav Dewan|vaibhavdev@zapak.com|   Executive| 34|DELHI|   NDELHI|  67000| 8/13/2009|\n",
            "+--------------------+--------------------+------------+---+-----+---------+-------+----------+\n",
            "\n"
          ]
        }
      ]
    },
    {
      "cell_type": "markdown",
      "source": [],
      "metadata": {
        "id": "W8uh5WGPxzxn"
      }
    },
    {
      "cell_type": "code",
      "source": [
        "df3=spark.sql(\"\"\" With CTE1 As (SELECT Emp_name,Dept,Revenue,\n",
        "             dense_rank() over (partition by Dept order by Revenue) as RankedEmp,\n",
        "             count(*) over (partition by Dept, Revenue) as CountUniqueDeptAndRevenue\n",
        "             from Employee_data)\n",
        "             SELECT Dept,Revenue from CTE1\n",
        "             where CTE1.CountUniqueDeptAndRevenue > 1\n",
        "              \"\"\")\n",
        "df3.show(df3.count(),truncate=False)"
      ],
      "metadata": {
        "colab": {
          "base_uri": "https://localhost:8080/"
        },
        "id": "a9VVlP0a0zfX",
        "outputId": "8e17c8c7-5234-410e-8da9-2c5c3928851a"
      },
      "execution_count": 23,
      "outputs": [
        {
          "output_type": "stream",
          "name": "stdout",
          "text": [
            "+---------+-------+\n",
            "|Dept     |Revenue|\n",
            "+---------+-------+\n",
            "|Director |45000  |\n",
            "|Director |45000  |\n",
            "|Director |45000  |\n",
            "|Director |45000  |\n",
            "|Director |45000  |\n",
            "|Executive|23456  |\n",
            "|Executive|23456  |\n",
            "|Executive|45000  |\n",
            "|Executive|45000  |\n",
            "|Executive|45000  |\n",
            "|HR       |23000  |\n",
            "|HR       |23000  |\n",
            "+---------+-------+\n",
            "\n"
          ]
        }
      ]
    },
    {
      "cell_type": "code",
      "source": [],
      "metadata": {
        "id": "Y8VA5fNd1KAO"
      },
      "execution_count": null,
      "outputs": []
    }
  ],
  "metadata": {
    "colab": {
      "name": "Prompting.ipynb",
      "provenance": [],
      "include_colab_link": true
    },
    "google": {
      "image_path": "/static/site-assets/images/docs/logo-python.svg",
      "keywords": [
        "examples",
        "gemini",
        "beginner",
        "googleai",
        "quickstart",
        "python",
        "text",
        "chat",
        "vision",
        "embed"
      ]
    },
    "kernelspec": {
      "display_name": "Python 3",
      "name": "python3"
    }
  },
  "nbformat": 4,
  "nbformat_minor": 0
}